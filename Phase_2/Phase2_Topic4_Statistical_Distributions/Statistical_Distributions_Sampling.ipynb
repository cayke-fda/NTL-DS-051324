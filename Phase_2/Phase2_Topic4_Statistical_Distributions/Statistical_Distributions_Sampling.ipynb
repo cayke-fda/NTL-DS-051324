{
 "cells": [
  {
   "cell_type": "markdown",
   "metadata": {
    "slideshow": {
     "slide_type": "slide"
    }
   },
   "source": [
    "<div style=\"color:white;\n",
    "           display:fill;\n",
    "           border-radius:5px;\n",
    "           background-color:#5642C5;\n",
    "           font-size:200%;\n",
    "           font-family:Arial;letter-spacing:0.5px\">\n",
    "\n",
    "<p width = 20%, style=\"padding: 10px;\n",
    "              color:white;\">\n",
    "Distributions\n",
    "              \n",
    "</p>\n",
    "</div>\n",
    "\n",
    "NTL-DS-051324\n",
    "<p>Phase 3</p>\n",
    "<br>\n",
    "<br>\n",
    "\n",
    "<div align = \"right\">\n",
    "<img src=\"images/flatiron-school-logo.png\" align = \"right\" width=\"200\"/>\n",
    "</div>"
   ]
  },
  {
   "cell_type": "code",
   "execution_count": 1,
   "metadata": {
    "ExecuteTime": {
     "end_time": "2021-10-08T20:59:55.423713Z",
     "start_time": "2021-10-08T20:59:53.995917Z"
    },
    "slideshow": {
     "slide_type": "slide"
    }
   },
   "outputs": [],
   "source": [
    "# Import the dependencies\n",
    "import pandas as pd\n",
    "import numpy as np\n",
    "from scipy import stats\n",
    "from matplotlib import pyplot as plt\n",
    "import seaborn as sns\n",
    "%matplotlib inline"
   ]
  },
  {
   "cell_type": "markdown",
   "metadata": {
    "heading_collapsed": true,
    "slideshow": {
     "slide_type": "slide"
    }
   },
   "source": [
    "# Objectives"
   ]
  },
  {
   "cell_type": "markdown",
   "metadata": {
    "hidden": true,
    "slideshow": {
     "slide_type": "fragment"
    }
   },
   "source": [
    "* Explain how sampling is related to its related population\n",
    "* Describe the difference between discrete and continuous random variables\n",
    "* Describe the difference between PMFs, PDFs, and CDFs"
   ]
  },
  {
   "cell_type": "markdown",
   "metadata": {
    "heading_collapsed": true,
    "slideshow": {
     "slide_type": "slide"
    }
   },
   "source": [
    "# First Steps: Sampling"
   ]
  },
  {
   "cell_type": "markdown",
   "metadata": {
    "hidden": true,
    "slideshow": {
     "slide_type": "fragment"
    }
   },
   "source": [
    "Before we get into our main topic of probability distributions, it'll help to first understand the concept of **sampling**."
   ]
  },
  {
   "cell_type": "markdown",
   "metadata": {
    "heading_collapsed": true,
    "hidden": true,
    "slideshow": {
     "slide_type": "slide"
    }
   },
   "source": [
    "## Our View of The World Isn't Perfect"
   ]
  },
  {
   "cell_type": "markdown",
   "metadata": {
    "slideshow": {
     "slide_type": "fragment"
    }
   },
   "source": [
    "We don't have _perfect_ information; life doesn't have an answer key.\n",
    "\n",
    "Ideally, we want to have all the details of a whole group. But as you can guess, that's not always feasible."
   ]
  },
  {
   "cell_type": "markdown",
   "metadata": {
    "hidden": true,
    "slideshow": {
     "slide_type": "slide"
    }
   },
   "source": [
    "**🧠 Knowledge Check**: What are some reasons we sometimes _can't_ observe the whole group?\n",
    "<details>\n",
    "<ul>\n",
    "    <li>Expensive</li>\n",
    "    <li>Unrealistic</li>\n",
    "    <li>We don't need it to gain insights!</li>\n",
    "</ul>\n",
    "</details>"
   ]
  },
  {
   "cell_type": "markdown",
   "metadata": {
    "heading_collapsed": true,
    "hidden": true,
    "slideshow": {
     "slide_type": "slide"
    }
   },
   "source": [
    "## Solutions?"
   ]
  },
  {
   "cell_type": "markdown",
   "metadata": {
    "hidden": true,
    "slideshow": {
     "slide_type": "fragment"
    }
   },
   "source": [
    "Let's use an example scenario to think about how we can approach this. Let's say we would like to know the ages of students at Flatiron School. \n",
    "\n",
    "Picture what this might look like. How would you describe the population of students' ages?"
   ]
  },
  {
   "cell_type": "markdown",
   "metadata": {
    "hidden": true,
    "slideshow": {
     "slide_type": "slide"
    }
   },
   "source": [
    "> **Key Terms**\n",
    ">\n",
    "> We define the **population** as the whole group we're interested in. We abstract this to the population being the whole set of _possible outcomes_.\n",
    "> \n",
    "> And when we \"pick\" a student (or students), we say we have (randomly) _sampled_ over the population. We call this subset of \"picked\" individuals/outcomes from the population a **sample**."
   ]
  },
  {
   "cell_type": "markdown",
   "metadata": {
    "hidden": true,
    "slideshow": {
     "slide_type": "slide"
    }
   },
   "source": [
    "Well, if we knew what the **population** (all the Flatiron students) looked like, we could probably get an idea of what the likely age is of a _randomly_ picked one from the population."
   ]
  },
  {
   "cell_type": "markdown",
   "metadata": {
    "hidden": true,
    "slideshow": {
     "slide_type": "fragment"
    }
   },
   "source": [
    "We can describe the \"look\" of the population a **probability distribution**. "
   ]
  },
  {
   "cell_type": "markdown",
   "metadata": {
    "hidden": true,
    "slideshow": {
     "slide_type": "fragment"
    }
   },
   "source": [
    "> **Key Terms**\n",
    "> \n",
    "> A **probability distribution** is a representation of the frequencies of potential outcomes or the percentage of time each outcome occurs."
   ]
  },
  {
   "cell_type": "markdown",
   "metadata": {
    "hidden": true,
    "slideshow": {
     "slide_type": "slide"
    }
   },
   "source": [
    "There are a few ways to get the probability distribution, even if it's only approximate."
   ]
  },
  {
   "cell_type": "markdown",
   "metadata": {
    "heading_collapsed": true,
    "hidden": true,
    "slideshow": {
     "slide_type": "slide"
    }
   },
   "source": [
    "### Observe the Whole Population"
   ]
  },
  {
   "cell_type": "markdown",
   "metadata": {
    "hidden": true,
    "slideshow": {
     "slide_type": "fragment"
    }
   },
   "source": [
    "This might seem like \"cheating\" but sometimes this is really the best way even if it's \"expensive\" (monetarily, time, or otherwise). Sometimes this has already been done for us and we can use those results. It's important to note that sometimes the information is outdated but we can use it as approximately right. (Think how the US Census is done only every 10 years.)"
   ]
  },
  {
   "cell_type": "markdown",
   "metadata": {
    "hidden": true,
    "slideshow": {
     "slide_type": "slide"
    }
   },
   "source": [
    "So in our example, we could have a _distribution_ of ages of our population. Let's say of all students were asked their age when enrolling:\n",
    "\n",
    "- $15\\%$ are under the age of $25$\n",
    "- $30\\%$ are between $25$ & $30$\n",
    "- $25\\%$ are between $30$ & $35$\n",
    "- $20\\%$ are between $35$ & $40$\n",
    "- $10\\%$ are over the age of $40$"
   ]
  },
  {
   "cell_type": "markdown",
   "metadata": {
    "heading_collapsed": true,
    "hidden": true,
    "slideshow": {
     "slide_type": "slide"
    }
   },
   "source": [
    "### We Sample and Infer the Population's Distribution "
   ]
  },
  {
   "cell_type": "markdown",
   "metadata": {
    "hidden": true,
    "slideshow": {
     "slide_type": "fragment"
    }
   },
   "source": [
    "Another method is to sample the population (usually randomly) and observe what the sample's distribution looks like. We can then infer what the population might look like."
   ]
  },
  {
   "cell_type": "markdown",
   "metadata": {
    "hidden": true,
    "slideshow": {
     "slide_type": "fragment"
    }
   },
   "source": [
    "Suppose we ask 100 random students their ages and observe the following:\n",
    "\n",
    "- $10$ are under the age of $25$\n",
    "- $30$ are between $25$ & $30$\n",
    "- $30$ are between $30$ & $35$\n",
    "- $15$ are between $35$ & $40$\n",
    "- $15$ are over the age of $40$\n",
    "\n",
    "Then we can guess that our population is similar to this distribution."
   ]
  },
  {
   "cell_type": "markdown",
   "metadata": {
    "hidden": true,
    "slideshow": {
     "slide_type": "slide"
    }
   },
   "source": [
    "How similar? Well, that can be a tough question and is part of _inferential statistics_ where we make predictions based on our observations/data.  We'll  be going into more detail about this in the near future."
   ]
  },
  {
   "cell_type": "markdown",
   "metadata": {
    "slideshow": {
     "slide_type": "slide"
    }
   },
   "source": [
    "## Sampling & Point Estimates "
   ]
  },
  {
   "cell_type": "markdown",
   "metadata": {
    "slideshow": {
     "slide_type": "fragment"
    }
   },
   "source": [
    "**Know the differences - Population v Sample Terminology**\n",
    "\n",
    "Characteristics of populations are called *parameters*<br/>\n",
    "Characteristics of a sample are called *statistics*\n",
    "\n",
    "<img src=\"https://media.cheggcdn.com/media/7ac/7ac1a812-3b41-4873-8413-b6a7b8fab530/CL-26481V_image_006.png\" width=700>"
   ]
  },
  {
   "cell_type": "markdown",
   "metadata": {
    "slideshow": {
     "slide_type": "slide"
    }
   },
   "source": [
    "Let's work through an example to understand this topic better. We grabbed wage and classification information for 11,739 City of Seattle Employees (as of March 2022).\n",
    "\n",
    "Details: https://data.seattle.gov/City-Business/City-of-Seattle-Wage-Data/2khk-5ukd"
   ]
  },
  {
   "cell_type": "code",
   "execution_count": 2,
   "metadata": {
    "cell_style": "center",
    "slideshow": {
     "slide_type": "slide"
    }
   },
   "outputs": [
    {
     "name": "stdout",
     "output_type": "stream",
     "text": [
      "<class 'pandas.core.frame.DataFrame'>\n",
      "RangeIndex: 11739 entries, 0 to 11738\n",
      "Data columns (total 5 columns):\n",
      " #   Column        Non-Null Count  Dtype  \n",
      "---  ------        --------------  -----  \n",
      " 0   Department    11739 non-null  object \n",
      " 1   Last Name     11739 non-null  object \n",
      " 2   First Name    11739 non-null  object \n",
      " 3   Job Title     11739 non-null  object \n",
      " 4   Hourly Rate   11739 non-null  float64\n",
      "dtypes: float64(1), object(4)\n",
      "memory usage: 458.7+ KB\n"
     ]
    }
   ],
   "source": [
    "# Grab our data\n",
    "df = pd.read_csv('data/City_of_Seattle_Wage_Data_031422.csv')\n",
    "df.info()"
   ]
  },
  {
   "cell_type": "code",
   "execution_count": 3,
   "metadata": {
    "cell_style": "split",
    "slideshow": {
     "slide_type": "fragment"
    }
   },
   "outputs": [
    {
     "data": {
      "text/plain": [
       "Index(['Department', 'Last Name', 'First Name', 'Job Title', 'Hourly Rate '], dtype='object')"
      ]
     },
     "execution_count": 3,
     "metadata": {},
     "output_type": "execute_result"
    }
   ],
   "source": [
    "# Thing to note - the column name 'Hourly Rate ' has a space at the end\n",
    "df.columns"
   ]
  },
  {
   "cell_type": "code",
   "execution_count": 4,
   "metadata": {
    "cell_style": "split",
    "slideshow": {
     "slide_type": "fragment"
    }
   },
   "outputs": [
    {
     "data": {
      "text/plain": [
       "['Department', 'LastName', 'FirstName', 'JobTitle', 'HourlyRate']"
      ]
     },
     "execution_count": 4,
     "metadata": {},
     "output_type": "execute_result"
    }
   ],
   "source": [
    "[c.replace(\" \", \"\") for c in df.columns]"
   ]
  },
  {
   "cell_type": "code",
   "execution_count": 5,
   "metadata": {
    "slideshow": {
     "slide_type": "slide"
    }
   },
   "outputs": [],
   "source": [
    "# So let's rename the columns\n",
    "df = df.rename(columns = dict(zip(df.columns, [c.replace(\" \", \"\") for c in df.columns])))"
   ]
  },
  {
   "cell_type": "code",
   "execution_count": 6,
   "metadata": {
    "slideshow": {
     "slide_type": "fragment"
    }
   },
   "outputs": [
    {
     "data": {
      "text/html": [
       "<div>\n",
       "<style scoped>\n",
       "    .dataframe tbody tr th:only-of-type {\n",
       "        vertical-align: middle;\n",
       "    }\n",
       "\n",
       "    .dataframe tbody tr th {\n",
       "        vertical-align: top;\n",
       "    }\n",
       "\n",
       "    .dataframe thead th {\n",
       "        text-align: right;\n",
       "    }\n",
       "</style>\n",
       "<table border=\"1\" class=\"dataframe\">\n",
       "  <thead>\n",
       "    <tr style=\"text-align: right;\">\n",
       "      <th></th>\n",
       "      <th>Department</th>\n",
       "      <th>LastName</th>\n",
       "      <th>FirstName</th>\n",
       "      <th>JobTitle</th>\n",
       "      <th>HourlyRate</th>\n",
       "    </tr>\n",
       "  </thead>\n",
       "  <tbody>\n",
       "    <tr>\n",
       "      <th>0</th>\n",
       "      <td>Seattle Public Utilities</td>\n",
       "      <td>Batchelor</td>\n",
       "      <td>Craig</td>\n",
       "      <td>Civil Engrng Spec,Sr</td>\n",
       "      <td>53.740</td>\n",
       "    </tr>\n",
       "    <tr>\n",
       "      <th>1</th>\n",
       "      <td>Finance &amp; Admin Services</td>\n",
       "      <td>Altice</td>\n",
       "      <td>Jeffrey</td>\n",
       "      <td>Auto Mechanic</td>\n",
       "      <td>39.780</td>\n",
       "    </tr>\n",
       "    <tr>\n",
       "      <th>2</th>\n",
       "      <td>Finance &amp; Admin Services</td>\n",
       "      <td>Montes</td>\n",
       "      <td>Valeria</td>\n",
       "      <td>Cust Svc Rep</td>\n",
       "      <td>29.450</td>\n",
       "    </tr>\n",
       "    <tr>\n",
       "      <th>3</th>\n",
       "      <td>Fire Department</td>\n",
       "      <td>Kuklok</td>\n",
       "      <td>Rebecca</td>\n",
       "      <td>Cust Svc Rep *</td>\n",
       "      <td>29.450</td>\n",
       "    </tr>\n",
       "    <tr>\n",
       "      <th>4</th>\n",
       "      <td>Planning &amp; Comm Development</td>\n",
       "      <td>Quirindongo</td>\n",
       "      <td>Rico</td>\n",
       "      <td>Executive3</td>\n",
       "      <td>97.164</td>\n",
       "    </tr>\n",
       "  </tbody>\n",
       "</table>\n",
       "</div>"
      ],
      "text/plain": [
       "                    Department     LastName FirstName              JobTitle  \\\n",
       "0     Seattle Public Utilities    Batchelor     Craig  Civil Engrng Spec,Sr   \n",
       "1     Finance & Admin Services       Altice   Jeffrey         Auto Mechanic   \n",
       "2     Finance & Admin Services       Montes   Valeria          Cust Svc Rep   \n",
       "3              Fire Department       Kuklok   Rebecca        Cust Svc Rep *   \n",
       "4  Planning & Comm Development  Quirindongo      Rico            Executive3   \n",
       "\n",
       "   HourlyRate  \n",
       "0      53.740  \n",
       "1      39.780  \n",
       "2      29.450  \n",
       "3      29.450  \n",
       "4      97.164  "
      ]
     },
     "execution_count": 6,
     "metadata": {},
     "output_type": "execute_result"
    }
   ],
   "source": [
    "# Check our work\n",
    "df.head()"
   ]
  },
  {
   "cell_type": "markdown",
   "metadata": {
    "slideshow": {
     "slide_type": "slide"
    }
   },
   "source": [
    "What we'll do is grab a random sample, of 1000 employees, and see how the sample statistics match up with our population parameters."
   ]
  },
  {
   "cell_type": "code",
   "execution_count": 8,
   "metadata": {
    "slideshow": {
     "slide_type": "fragment"
    }
   },
   "outputs": [],
   "source": [
    "# gonna use the random library to add randomness\n",
    "import random\n",
    "\n",
    "# seed for reproducibility (not too random)\n",
    "random.seed(2023) "
   ]
  },
  {
   "cell_type": "code",
   "execution_count": 33,
   "metadata": {
    "cell_style": "split",
    "slideshow": {
     "slide_type": "fragment"
    }
   },
   "outputs": [],
   "source": [
    "# set our parameters\n",
    "sample_size = 1000\n",
    "total_employees = len(df)"
   ]
  },
  {
   "cell_type": "code",
   "execution_count": 34,
   "metadata": {
    "cell_style": "split",
    "slideshow": {
     "slide_type": "fragment"
    }
   },
   "outputs": [],
   "source": [
    "# Sample 1000 random employees\n",
    "sample = df.sample(sample_size)"
   ]
  },
  {
   "cell_type": "code",
   "execution_count": 35,
   "metadata": {
    "slideshow": {
     "slide_type": "slide"
    }
   },
   "outputs": [
    {
     "data": {
      "image/png": "[encoded data removed]",
      "text/plain": [
       "<Figure size 576x432 with 1 Axes>"
      ]
     },
     "metadata": {
      "needs_background": "light"
     },
     "output_type": "display_data"
    }
   ],
   "source": [
    "#Make a visualization that shows the distribution of hourly rate\n",
    "\n",
    "plt.figure(figsize=(8,6))\n",
    "\n",
    "sns.histplot(df['HourlyRate'], label ='Full Dataset', stat='density', kde=True)\n",
    "sns.histplot(sample['HourlyRate'], label='Sample', stat='density', kde=True, color='orange', alpha=.5)\n",
    "\n",
    "plt.xlabel(\"Hourly Rate\")\n",
    "plt.ylabel(\"Frequency\")\n",
    "plt.title(\"Distribution of Hourly Rates Amongst Seattle City Employees\")\n",
    "plt.legend()\n",
    "plt.show()"
   ]
  },
  {
   "cell_type": "markdown",
   "metadata": {
    "slideshow": {
     "slide_type": "slide"
    }
   },
   "source": [
    "Another comparison: "
   ]
  },
  {
   "cell_type": "code",
   "execution_count": 36,
   "metadata": {
    "cell_style": "split",
    "slideshow": {
     "slide_type": "fragment"
    }
   },
   "outputs": [
    {
     "name": "stdout",
     "output_type": "stream",
     "text": [
      "Full Dataset:\n",
      "         HourlyRate\n",
      "count  11739.000000\n",
      "mean      47.817331\n",
      "std       16.722128\n",
      "min        5.530000\n",
      "25%       35.400000\n",
      "50%       47.340000\n",
      "75%       59.550000\n",
      "max      187.767000\n",
      "********************\n",
      "Sample:\n",
      "        HourlyRate\n",
      "count  1000.000000\n",
      "mean     47.255368\n",
      "std      16.630705\n",
      "min      17.270000\n",
      "25%      34.470000\n",
      "50%      46.680000\n",
      "75%      59.550000\n",
      "max     141.273000\n"
     ]
    }
   ],
   "source": [
    "print(\"Full Dataset:\")\n",
    "print(df.describe())\n",
    "print(\"*\" * 20)\n",
    "print(\"Sample:\")\n",
    "print(sample.describe())"
   ]
  },
  {
   "cell_type": "markdown",
   "metadata": {
    "cell_style": "split",
    "slideshow": {
     "slide_type": "fragment"
    }
   },
   "source": [
    "So, how'd our sample do, in terms of representing our underlying population?\n",
    "\n",
    "- \n"
   ]
  },
  {
   "cell_type": "markdown",
   "metadata": {
    "cell_style": "split",
    "slideshow": {
     "slide_type": "fragment"
    }
   },
   "source": [
    "Now let's change that 500 to something smaller, like 5 or 10 - rerun the code, how does our sample do in that case?\n",
    "\n",
    "- "
   ]
  },
  {
   "cell_type": "markdown",
   "metadata": {
    "heading_collapsed": true,
    "hidden": true,
    "slideshow": {
     "slide_type": "slide"
    }
   },
   "source": [
    "## Going Forward"
   ]
  },
  {
   "cell_type": "markdown",
   "metadata": {
    "hidden": true,
    "slideshow": {
     "slide_type": "fragment"
    }
   },
   "source": [
    "Today, we're going to focus on how we can describe probability distributions. This will give us a tool set whether we're talking about a sample or an established population."
   ]
  },
  {
   "cell_type": "markdown",
   "metadata": {
    "hidden": true,
    "slideshow": {
     "slide_type": "slide"
    }
   },
   "source": [
    "> **Aside - Use a Mathematical Model as a Proxy to the Population's Distribution**\n",
    "> \n",
    "> If we know what a population distribution _should_ look like, we can mathematically  define a model that would fill-in for our population.\n",
    "> \n",
    "> This is analogous to something like using a perfect circle to approximate a car's tire. Is it exactly the same? No, there are some deviations from the circle but it's close enough for many applications.\n",
    "> \n",
    "> There are many other _parametric probability distributions_ which can be described mathematically and can be very convenient for us. We won't focus on this now, but know that is another use case of probability distributions."
   ]
  },
  {
   "cell_type": "markdown",
   "metadata": {
    "heading_collapsed": true,
    "slideshow": {
     "slide_type": "slide"
    }
   },
   "source": [
    "# Probability Distributions"
   ]
  },
  {
   "cell_type": "markdown",
   "metadata": {
    "slideshow": {
     "slide_type": "fragment"
    }
   },
   "source": [
    "We will learn about a variety of different probability distributions, but before we do so, we need to establish the difference between **discrete** and **continuous** distributions."
   ]
  },
  {
   "cell_type": "markdown",
   "metadata": {
    "slideshow": {
     "slide_type": "slide"
    }
   },
   "source": [
    "A fundamental distinction among kinds of distributions is the distinction between discrete and continuous distributions. \n",
    "\n",
    "A **discrete distribution** (or variable) takes on countable values, like integers, where every outcome has a positive probability.\n",
    "\n",
    "A **continuous distribution** takes on a continuum of values, like real numbers. It assigns probabilities to ranges of values (not any one single value)\n",
    "\n",
    "![](https://miro.medium.com/max/1022/1*7DwXV_h_t7_-TkLAImKBaQ.png)\n",
    "\n",
    "[More Explanation](https://mathbitsnotebook.com/Algebra1/FunctionGraphs/FNGContinuousDiscrete.html)"
   ]
  },
  {
   "cell_type": "markdown",
   "metadata": {
    "heading_collapsed": true,
    "hidden": true,
    "slideshow": {
     "slide_type": "slide"
    }
   },
   "source": [
    "## Discrete Distributions"
   ]
  },
  {
   "cell_type": "markdown",
   "metadata": {
    "hidden": true,
    "slideshow": {
     "slide_type": "fragment"
    }
   },
   "source": [
    "With discrete distributions, you can only get certain specific values, not all values in a range.  Take, for example, a roll of a single six-sided die - there are 6 possible outcomes of the roll, and non-integer numbers between 1 and 6 are not possible results."
   ]
  },
  {
   "cell_type": "markdown",
   "metadata": {
    "hidden": true,
    "slideshow": {
     "slide_type": "slide"
    }
   },
   "source": [
    "### Examples of Discrete Distributions\n",
    "- **Uniform Distribution**\n",
    "    - Occurs when all possible outcomes are equally likely.\n",
    "    - e.g. rolling a six-sided die\n",
    "    \n",
    "- **Bernoulli Distribution**\n",
    "    - Represents the probability of success for a certain experiment (binary outcome).\n",
    "    - e.g. flipping a fair coin\n",
    "    \n",
    "- **Binomial Distribution**\n",
    "    - Represents the probability of observing a specific number of successes (Bernoulli trials) in a specific number of trials.\n",
    "    - e.g. number of defects found from a 100-random sample from the production line"
   ]
  },
  {
   "cell_type": "markdown",
   "metadata": {
    "heading_collapsed": true,
    "hidden": true,
    "slideshow": {
     "slide_type": "slide"
    }
   },
   "source": [
    "## Continuous Distributions"
   ]
  },
  {
   "cell_type": "markdown",
   "metadata": {
    "hidden": true,
    "slideshow": {
     "slide_type": "fragment"
    }
   },
   "source": [
    "With a continuous distribution, you can expect to get any value within a range. Think about measuring the length of something. The reported measurement can always be more or less precise.\n"
   ]
  },
  {
   "cell_type": "markdown",
   "metadata": {
    "heading_collapsed": true,
    "hidden": true,
    "slideshow": {
     "slide_type": "slide"
    }
   },
   "source": [
    "### Examples of Continuous Distributions"
   ]
  },
  {
   "cell_type": "markdown",
   "metadata": {
    "hidden": true,
    "slideshow": {
     "slide_type": "slide"
    }
   },
   "source": [
    "- **Continuous Uniform**\n",
    "    - A continuous distribution that takes values within a specified range *a* to *b*, when each value within the range is equally likely.\n",
    "    - e.g. time take an elevator arrive at your floor.\n",
    "\n",
    "- **Normal (Gaussian)**\n",
    "    - A probability distribution that is symmetric about the mean, showing that the mean are more frequent in occurrence than data far from the mean.\n",
    "    - e.g. individual height in a population\n",
    "    \n",
    "- **Exponential**\n",
    "    - Used to model the time elapsed between events.\n",
    "    - e.g. amount of time a postal clerk spends with a customer"
   ]
  },
  {
   "cell_type": "markdown",
   "metadata": {
    "slideshow": {
     "slide_type": "slide"
    }
   },
   "source": [
    "## Probability Distribution Functions\n",
    "\n",
    "### Probability Mass Functions (PMF) / Probability Density Functions (PDF) & Cumulative Density Functions (CDF)\n",
    "\n",
    "(I know, \"Probability Distribution Functions\" and \"Probability Density Functions\" have the same acronym. PDF normally stands for the latter - the former is a more catch-all term for all three of these)"
   ]
  },
  {
   "cell_type": "markdown",
   "metadata": {
    "slideshow": {
     "slide_type": "slide"
    }
   },
   "source": [
    "![example graphs of a continuous cdf with corresponding pdf and discrete cdf with corresponding pmf](images/cdf.png)"
   ]
  },
  {
   "cell_type": "markdown",
   "metadata": {
    "heading_collapsed": true,
    "slideshow": {
     "slide_type": "slide"
    }
   },
   "source": [
    "# PMF: Probability Mass Function"
   ]
  },
  {
   "cell_type": "markdown",
   "metadata": {
    "hidden": true,
    "slideshow": {
     "slide_type": "fragment"
    }
   },
   "source": [
    "The **probability mass function (PMF)** for a *discrete random variable* gives, at any value $k$, the probability that the random variable takes the value $k$."
   ]
  },
  {
   "cell_type": "markdown",
   "metadata": {
    "slideshow": {
     "slide_type": "slide"
    }
   },
   "source": [
    "### Probability Density Function\n",
    "\n",
    "**Probability density functions (PDF)** are similar to PMFs, in that they describe the probability of a result within a range of values. But where PMFs are appropriate for discrete variables and so can be descibed with barplots, PDFs are smooth curves that describe *continuous random variables*.  \n",
    "\n",
    "We can think of a PDF as a bunch of bars of probabilities getting smaller and smaller until each neighbor is indistinguishable from its neighbor.\n",
    "\n",
    "It is then intuitive that you cannot calculate expected value and variance in the same way as we did with PMFs.  Instead, we have to integrate over the entirety of the curve to calculate the expected value."
   ]
  },
  {
   "cell_type": "markdown",
   "metadata": {
    "slideshow": {
     "slide_type": "slide"
    }
   },
   "source": [
    "![](images/pdf_inter.png)"
   ]
  },
  {
   "cell_type": "markdown",
   "metadata": {
    "slideshow": {
     "slide_type": "slide"
    }
   },
   "source": [
    "## Distributions with Scipy Stats"
   ]
  },
  {
   "cell_type": "markdown",
   "metadata": {
    "slideshow": {
     "slide_type": "fragment"
    }
   },
   "source": [
    "Documentation: https://docs.scipy.org/doc/scipy/reference/stats.html"
   ]
  },
  {
   "cell_type": "markdown",
   "metadata": {
    "slideshow": {
     "slide_type": "slide"
    }
   },
   "source": [
    "## First Up: Get to know the stats module with Discrete Distributions!"
   ]
  },
  {
   "cell_type": "markdown",
   "metadata": {
    "slideshow": {
     "slide_type": "slide"
    }
   },
   "source": [
    "### Bernoulli Distribution \n",
    "\n",
    "The **Bernoulli** distribution shows the outcome of a single trial where there are only 2 possible options.\n",
    "\n",
    "The easiest example is a single coin flip of a fair coin."
   ]
  },
  {
   "cell_type": "code",
   "execution_count": 37,
   "metadata": {
    "slideshow": {
     "slide_type": "slide"
    }
   },
   "outputs": [],
   "source": [
    "# Define our likelihood of 'success' - aka Heads\n",
    "p_success = .5\n",
    "\n",
    "# Now - lets use the stats library to get the probabilities\n",
    "p_tails = stats.bernoulli.pmf(k=0, p=p_success) # Probability of 'failure' (0)\n",
    "\n",
    "p_heads = stats.bernoulli.pmf(k=1, p=p_success) # Probability of 'success' (1)"
   ]
  },
  {
   "cell_type": "code",
   "execution_count": 38,
   "metadata": {
    "cell_style": "split",
    "slideshow": {
     "slide_type": "fragment"
    }
   },
   "outputs": [
    {
     "name": "stdout",
     "output_type": "stream",
     "text": [
      "{'Tails': 0.5, 'Heads': 0.5}\n"
     ]
    }
   ],
   "source": [
    "# Create a dict for visualization:\n",
    "coin_flip = {\n",
    "    'Tails' : p_tails,\n",
    "    'Heads' : p_heads\n",
    "}\n",
    "\n",
    "print(coin_flip)"
   ]
  },
  {
   "cell_type": "code",
   "execution_count": 39,
   "metadata": {
    "cell_style": "split",
    "scrolled": true,
    "slideshow": {
     "slide_type": "slide"
    }
   },
   "outputs": [
    {
     "data": {
      "image/png": "[encoded data removed]",
      "text/plain": [
       "<Figure size 576x432 with 1 Axes>"
      ]
     },
     "metadata": {
      "needs_background": "light"
     },
     "output_type": "display_data"
    }
   ],
   "source": [
    "# visualize it\n",
    "plt.figure(figsize=(8,6))\n",
    "\n",
    "plt.bar(coin_flip.keys(), height=coin_flip.values())\n",
    "\n",
    "plt.ylabel('Probability')\n",
    "plt.xlabel('Result of Coin Flip')\n",
    "plt.ylim(0, 1)\n",
    "plt.show()"
   ]
  },
  {
   "cell_type": "markdown",
   "metadata": {
    "slideshow": {
     "slide_type": "slide"
    }
   },
   "source": [
    "A note - Bernoulli distributions do not need to showcase a fair and balanced trial, as is the case above. Let's look really quickly at a game where the chance of winning is only 10%:"
   ]
  },
  {
   "cell_type": "code",
   "execution_count": 40,
   "metadata": {
    "slideshow": {
     "slide_type": "fragment"
    }
   },
   "outputs": [
    {
     "name": "stdout",
     "output_type": "stream",
     "text": [
      "{'Lose': 0.9, 'Win': 0.10000000000000002}\n"
     ]
    }
   ],
   "source": [
    "p_success = .1\n",
    "\n",
    "# Let's 'freeze' this distribution\n",
    "rv = stats.bernoulli(p_success)\n",
    "\n",
    "# Create a dict for visualization:\n",
    "unfair_game = {\n",
    "    'Lose' : rv.pmf(k=0),\n",
    "    'Win' : rv.pmf(k=1)\n",
    "}\n",
    "\n",
    "print(unfair_game)\n",
    "# Note the python rounding - not an issue"
   ]
  },
  {
   "cell_type": "code",
   "execution_count": 43,
   "metadata": {
    "cell_style": "split",
    "slideshow": {
     "slide_type": "slide"
    }
   },
   "outputs": [
    {
     "data": {
      "image/png": "[encoded data removed]",
      "text/plain": [
       "<Figure size 576x432 with 1 Axes>"
      ]
     },
     "metadata": {
      "needs_background": "light"
     },
     "output_type": "display_data"
    }
   ],
   "source": [
    "# visualize it\n",
    "plt.figure(figsize=(8,6))\n",
    "\n",
    "plt.bar(unfair_game.keys(), height=unfair_game.values())\n",
    "\n",
    "plt.ylabel('Probability')\n",
    "plt.xlabel('Result of Game')\n",
    "plt.yticks(np.arange(0,1,0.1))\n",
    "plt.show()"
   ]
  },
  {
   "cell_type": "code",
   "execution_count": 42,
   "metadata": {
    "cell_style": "split",
    "scrolled": true,
    "slideshow": {
     "slide_type": "fragment"
    }
   },
   "outputs": [
    {
     "data": {
      "image/png": "[encoded data removed]",
      "text/plain": [
       "<Figure size 576x432 with 1 Axes>"
      ]
     },
     "metadata": {
      "needs_background": "light"
     },
     "output_type": "display_data"
    }
   ],
   "source": [
    "# visualize it\n",
    "plt.figure(figsize=(8,6))\n",
    "\n",
    "plt.bar(unfair_game.keys(), \n",
    "        height=[rv.cdf(0), rv.cdf(1)], \n",
    "        label='Cumulative Probability')\n",
    "\n",
    "plt.bar(unfair_game.keys(), \n",
    "        height=unfair_game.values(),\n",
    "        label='Unbalanced Bernoulli Discrete Probability')\n",
    "\n",
    "plt.ylabel('Probability')\n",
    "plt.xlabel('Result of Unfair Game')\n",
    "plt.legend(bbox_to_anchor=(1, 1))\n",
    "plt.show()"
   ]
  },
  {
   "cell_type": "markdown",
   "metadata": {
    "slideshow": {
     "slide_type": "slide"
    }
   },
   "source": [
    "Another note - a **Bernoulli** distribution is not the same as a **Binomial** distribution.\n",
    "\n",
    "- Bernoulli shows the probable results of a single trial with only 2 outcomes\n",
    "- Binomial shows the probable summed results of MANY trials with only 2 outcomes"
   ]
  },
  {
   "cell_type": "markdown",
   "metadata": {
    "heading_collapsed": true,
    "hidden": true,
    "slideshow": {
     "slide_type": "slide"
    }
   },
   "source": [
    "## Uniform Distribution"
   ]
  },
  {
   "cell_type": "markdown",
   "metadata": {
    "slideshow": {
     "slide_type": "fragment"
    }
   },
   "source": [
    "\n",
    "The **Uniform** distribution applies when all possible values of the variable are _equally probable_. \n",
    "\n",
    "If I'm rolling a fair die, then the six possible outcomes are all equally probable. That is, the chance that I roll a 1 is 1 in 6, as is the chance that I roll a 2 etc."
   ]
  },
  {
   "cell_type": "code",
   "execution_count": 44,
   "metadata": {
    "slideshow": {
     "slide_type": "slide"
    }
   },
   "outputs": [
    {
     "data": {
      "text/plain": [
       "{1: 0.16666666666666666,\n",
       " 2: 0.16666666666666666,\n",
       " 3: 0.16666666666666666,\n",
       " 4: 0.16666666666666666,\n",
       " 5: 0.16666666666666666,\n",
       " 6: 0.16666666666666666}"
      ]
     },
     "execution_count": 44,
     "metadata": {},
     "output_type": "execute_result"
    }
   ],
   "source": [
    "low = 1\n",
    "high = 6\n",
    "\n",
    "possible_rolls = {}\n",
    "# Scipy stats' randint is a discrete uniform distribution\n",
    "for roll in range(low, high+1):\n",
    "    possible_rolls[roll] = stats.randint.pmf(k=roll, low=low, high=high+1)\n",
    "    \n",
    "possible_rolls"
   ]
  },
  {
   "cell_type": "code",
   "execution_count": 45,
   "metadata": {},
   "outputs": [
    {
     "data": {
      "text/plain": [
       "[1, 2, 3, 4, 5, 6]"
      ]
     },
     "execution_count": 45,
     "metadata": {},
     "output_type": "execute_result"
    }
   ],
   "source": [
    "list(range(1, 6+1))"
   ]
  },
  {
   "cell_type": "code",
   "execution_count": 46,
   "metadata": {
    "cell_style": "center",
    "slideshow": {
     "slide_type": "slide"
    }
   },
   "outputs": [
    {
     "data": {
      "image/png": "[encoded data removed]",
      "text/plain": [
       "<Figure size 432x288 with 1 Axes>"
      ]
     },
     "metadata": {
      "needs_background": "light"
     },
     "output_type": "display_data"
    }
   ],
   "source": [
    "# visualize it\n",
    "plt.bar(possible_rolls.keys(), height=possible_rolls.values())\n",
    "\n",
    "plt.ylabel('Probability')\n",
    "plt.xlabel('Result of Die Roll')\n",
    "plt.ylim(0, 1)\n",
    "plt.show()"
   ]
  },
  {
   "cell_type": "code",
   "execution_count": 47,
   "metadata": {
    "slideshow": {
     "slide_type": "fragment"
    }
   },
   "outputs": [
    {
     "data": {
      "text/plain": [
       "{1: 0.16666666666666666,\n",
       " 2: 0.3333333333333333,\n",
       " 3: 0.5,\n",
       " 4: 0.6666666666666666,\n",
       " 5: 0.8333333333333334,\n",
       " 6: 1.0}"
      ]
     },
     "execution_count": 47,
     "metadata": {},
     "output_type": "execute_result"
    }
   ],
   "source": [
    "# 'freeze' the distribution\n",
    "rv = stats.randint(low=low, high=high+1)\n",
    "\n",
    "# using dictionary comprehension (!!) to get the CDF\n",
    "cdf_roll = {roll: rv.cdf(roll) for roll in possible_rolls.keys()}\n",
    "cdf_roll"
   ]
  },
  {
   "cell_type": "code",
   "execution_count": 48,
   "metadata": {
    "slideshow": {
     "slide_type": "slide"
    }
   },
   "outputs": [
    {
     "data": {
      "image/png": "[encoded data removed]",
      "text/plain": [
       "<Figure size 576x432 with 1 Axes>"
      ]
     },
     "metadata": {
      "needs_background": "light"
     },
     "output_type": "display_data"
    }
   ],
   "source": [
    "# visualize it\n",
    "plt.figure(figsize=(8,6))\n",
    "plt.bar(cdf_roll.keys(), height=cdf_roll.values(), \n",
    "        label='Cumulative Probability')\n",
    "\n",
    "plt.bar(possible_rolls.keys(), height=possible_rolls.values(), \n",
    "        label='Uniform Discrete Probability')\n",
    "\n",
    "plt.ylabel('Probability')\n",
    "plt.xlabel('Result of Die Roll')\n",
    "plt.legend()\n",
    "plt.show()"
   ]
  },
  {
   "cell_type": "markdown",
   "metadata": {
    "slideshow": {
     "slide_type": "slide"
    }
   },
   "source": [
    "## Next Up: Continuous Distributions!\n"
   ]
  },
  {
   "cell_type": "markdown",
   "metadata": {
    "slideshow": {
     "slide_type": "slide"
    }
   },
   "source": [
    "### Normal Distribution\n",
    "\n",
    "Suppose I want to simulate the behavior of a certain frog, whose species has an average weight of 15 oz. with a standard deviation of 2.5 oz.:"
   ]
  },
  {
   "cell_type": "code",
   "execution_count": 49,
   "metadata": {
    "slideshow": {
     "slide_type": "slide"
    }
   },
   "outputs": [
    {
     "name": "stdout",
     "output_type": "stream",
     "text": [
      "Continuous Random Variable: \n",
      " [14.29086902 15.70118614 14.87834427 15.08689514 15.49056702 16.10914359\n",
      " 17.33280144 18.61970844 16.66484609 16.1756424  14.40520962 17.69173505\n",
      " 18.0613411  14.32728615 14.9979718  18.95037193 16.3694334  14.59970089\n",
      " 17.03971268 13.57025121 14.23253115 17.08754638 11.64382531 18.36268676\n",
      " 13.96266208 10.68041716 15.74786514 13.8781794  10.00577464 18.48556273\n",
      " 16.13107508 15.39154487 16.06861583 16.43670609 15.8718754  19.17954122\n",
      " 12.96901196 17.43087327 15.24775913 15.84195068 13.18783825 16.5920957\n",
      " 15.27681049 14.21157684 14.87304972 14.60425457 16.68605264 15.4833831\n",
      " 17.99950173 16.25021691 13.56844592 14.94345542 17.27670682 15.04416466\n",
      " 14.83474436 14.02808096 14.02514453 10.80892761 15.07527121 17.72123926\n",
      " 13.09935812 18.9069078  14.64794724  9.44855323 14.20974628 16.92307572\n",
      " 16.06924013 19.64633236 17.7684987  13.58114433 18.80119752 19.88697871\n",
      " 17.2976223  14.83981958 12.95094417 11.69528325 18.04586315 15.29028407\n",
      " 17.75998526 15.20217459  9.63109102 15.78291817 14.19998732 14.04969737\n",
      " 17.60861943 16.98003196 16.95515617 15.19970235 10.62020646 12.39262259\n",
      " 15.56174142 15.07822941 14.83728801 14.50164556 14.08758565 16.16921165\n",
      " 13.60091924  9.62574895 15.09138082 13.2807091 ] \n",
      "\n"
     ]
    }
   ],
   "source": [
    "# Create required parameters for the distribution\n",
    "mu = 15  # mean of the data\n",
    "sigma = 2.5  # standard deviation of the data\n",
    "size = 100  # number of observations to be created\n",
    "\n",
    "# Create a discrete distribution with the given parameter values\n",
    "# Use rvs to create random values within this distribution\n",
    "normal = stats.norm.rvs(loc=mu, scale=sigma, size=size)\n",
    "\n",
    "print(f'Continuous Random Variable: \\n {normal} \\n')"
   ]
  },
  {
   "cell_type": "markdown",
   "metadata": {
    "slideshow": {
     "slide_type": "fragment"
    }
   },
   "source": [
    "The **mean** of our probability density function (PDF) affects where it is centered on the x-axis. This is the `loc` parameter in the `stats` module.\n",
    "\n",
    "The two plots below have the same shape, but different centers."
   ]
  },
  {
   "cell_type": "code",
   "execution_count": 50,
   "metadata": {
    "slideshow": {
     "slide_type": "slide"
    }
   },
   "outputs": [
    {
     "data": {
      "image/png": "[encoded data removed]",
      "text/plain": [
       "<Figure size 432x288 with 1 Axes>"
      ]
     },
     "metadata": {
      "needs_background": "light"
     },
     "output_type": "display_data"
    }
   ],
   "source": [
    "# Plotting the probability density function for continuous data\n",
    "fig, ax = plt.subplots()\n",
    "\n",
    "# Distribution with zero mean\n",
    "mean = 0\n",
    "\n",
    "# Calculate the percentile for x axis using stats.norm.ppf()\n",
    "z_curve = np.linspace(stats.norm(mean, 1).ppf(0.01),\n",
    "                      stats.norm(mean, 1).ppf(0.99),\n",
    "                      100)\n",
    "\n",
    "# Calculate the density values using stats.norm.pdf() for every percentile position\n",
    "# Plot the distribution in red\n",
    "ax.plot(z_curve,\n",
    "        stats.norm(mean, 1).pdf(z_curve),\n",
    "        'r-', lw=5, alpha=0.6, label='z_curve')\n",
    "\n",
    "# Distribution with mean value = 1\n",
    "mean = 1\n",
    "\n",
    "# Calculate the percentile for x axis using stats.norm.ppf()\n",
    "z_curve = np.linspace(stats.norm(mean, 1).ppf(0.01),\n",
    "                      stats.norm(mean, 1).ppf(0.99),\n",
    "                      100)\n",
    "\n",
    "# Calculate the density values using stats.norm.pdf() for every percentile position\n",
    "# Plot the distribution in blue\n",
    "ax.plot(z_curve,\n",
    "        stats.norm(mean, 1).pdf(z_curve),\n",
    "        'b-', lw=5, alpha=0.6, label='norm pdf')\n",
    "\n",
    "ax.set_title(\"Two distributions differing in mean\");"
   ]
  },
  {
   "cell_type": "markdown",
   "metadata": {
    "slideshow": {
     "slide_type": "fragment"
    }
   },
   "source": [
    "The **variance** of our plots describes how closely the points are gathered around the mean. Low variance means tight and skinny, high variance short and wide. This is the `scale` parameter in the `stats` module - but note that the `scale` parameter for the `stats.norm` distribution specifically means the standard deviation (aka the square root of variance)\n",
    "\n",
    "The two plots below have the same mean, but different variance:"
   ]
  },
  {
   "cell_type": "code",
   "execution_count": 51,
   "metadata": {
    "slideshow": {
     "slide_type": "slide"
    }
   },
   "outputs": [
    {
     "data": {
      "text/plain": [
       "Text(0.5, 1.0, 'Two distributions differing in variance')"
      ]
     },
     "execution_count": 51,
     "metadata": {},
     "output_type": "execute_result"
    },
    {
     "data": {
      "image/png": "[encoded data removed]",
      "text/plain": [
       "<Figure size 432x288 with 1 Axes>"
      ]
     },
     "metadata": {
      "needs_background": "light"
     },
     "output_type": "display_data"
    }
   ],
   "source": [
    "# Create 2 normal distributions with same mean, but different sigma/scale\n",
    "fig, ax = plt.subplots()\n",
    "\n",
    "mean = 1\n",
    "std = 1\n",
    "z_curve = np.linspace(stats.norm(mean, std).ppf(0.01),\n",
    "                      stats.norm(mean, std).ppf(0.99), \n",
    "                      100)\n",
    "\n",
    "ax.plot(z_curve, stats.norm(mean, std).pdf(z_curve),\n",
    "        'r-', lw=5, alpha=0.6, label='z_curve')\n",
    "\n",
    "mean = 1\n",
    "std = 3\n",
    "z_curve = np.linspace(stats.norm(mean, std).ppf(0.01),\n",
    "                      stats.norm(mean, std).ppf(0.99), \n",
    "                      100)\n",
    "\n",
    "ax.plot(z_curve, stats.norm(mean, std).pdf(z_curve),\n",
    "        'b-', lw=5, alpha=0.6, label='norm pdf')\n",
    "\n",
    "ax.set_title(\"Two distributions differing in variance\")"
   ]
  },
  {
   "cell_type": "markdown",
   "metadata": {
    "heading_collapsed": true,
    "hidden": true,
    "slideshow": {
     "slide_type": "slide"
    }
   },
   "source": [
    "## Some Things to Be Aware Of"
   ]
  },
  {
   "cell_type": "markdown",
   "metadata": {
    "hidden": true,
    "slideshow": {
     "slide_type": "fragment"
    }
   },
   "source": [
    "- For continuous random variables, obtaining probabilities for observing a specific outcome is not possible \n",
    "- Be careful with interpretation of PDF\n",
    "\n",
    "We can use the CDF to learn the probability that a variable will be less than or equal to a given value.\n",
    "\n",
    "Typically, you'll see something like this equation associated with the CDF:\n",
    "\n",
    "$$F(x) = P(X\\leq x)$$"
   ]
  },
  {
   "cell_type": "markdown",
   "metadata": {
    "slideshow": {
     "slide_type": "slide"
    }
   },
   "source": [
    "###  Code with Python:\n",
    "\n",
    "Let's use the ```scipy.stats``` module to calculate the cumulative density for both discrete and continuous distributions.\n",
    "\n",
    "For discrete distributions, let's try to calculate the probability of the **binomial** distribution for the number of successes equal or less than 8 successes out of 20 trials (assuming the trials are fairly balanced, so equally as likely to get a success as a failure).\n",
    "\n",
    "$$P(x \\leq 8)$$"
   ]
  },
  {
   "cell_type": "code",
   "execution_count": 52,
   "metadata": {
    "slideshow": {
     "slide_type": "slide"
    }
   },
   "outputs": [],
   "source": [
    "# Need the probability of success\n",
    "p_success = .5"
   ]
  },
  {
   "cell_type": "code",
   "execution_count": 53,
   "metadata": {
    "ExecuteTime": {
     "end_time": "2021-10-08T21:00:07.840276Z",
     "start_time": "2021-10-08T21:00:07.836086Z"
    },
    "slideshow": {
     "slide_type": "fragment"
    }
   },
   "outputs": [
    {
     "data": {
      "text/plain": [
       "0.25172233581542974"
      ]
     },
     "execution_count": 53,
     "metadata": {},
     "output_type": "execute_result"
    }
   ],
   "source": [
    "# Create the random discrete value for the number of success\n",
    "k = 8\n",
    "n_trials = 20\n",
    "\n",
    "# Calculate the probability for x equal or less than 8\n",
    "stats.binom.cdf(k, n=n_trials, p=p_success)\n",
    "# Same as:\n",
    "# stats.binom(n=n_trials, p=p_success).cdf(k=k)"
   ]
  },
  {
   "cell_type": "code",
   "execution_count": 54,
   "metadata": {
    "slideshow": {
     "slide_type": "slide"
    }
   },
   "outputs": [
    {
     "data": {
      "image/png": "[encoded data removed]",
      "text/plain": [
       "<Figure size 576x432 with 1 Axes>"
      ]
     },
     "metadata": {
      "needs_background": "light"
     },
     "output_type": "display_data"
    }
   ],
   "source": [
    "# Visualizing this!\n",
    "rv = stats.binom(n=n_trials, p=p_success)\n",
    "\n",
    "nums = range(0, 21)\n",
    "\n",
    "plt.figure(figsize=(8, 6))\n",
    "plt.bar(nums, rv.pmf(nums),\n",
    "        color=['green' if n <= 8 else 'blue' for n in nums])\n",
    "\n",
    "plt.plot(nums, rv.cdf(nums), color='orange',\n",
    "         label='Binomial Cumulative Distribution')\n",
    "\n",
    "plt.vlines(x=k, ymin=0, ymax=rv.cdf(8), color='red',\n",
    "           label='K=8')\n",
    "plt.hlines(y=rv.cdf(k), xmin=0, xmax=k, color='red')\n",
    "\n",
    "plt.xlabel('Number of Successes')\n",
    "plt.xticks(ticks=nums)\n",
    "plt.legend()\n",
    "plt.show()"
   ]
  },
  {
   "cell_type": "markdown",
   "metadata": {
    "slideshow": {
     "slide_type": "slide"
    }
   },
   "source": [
    "For continuous distribution, we can calculate the probability of the normal distribution for a random value of x equal or less than 18.\n",
    "\n",
    "$$P(x \\leq 18)$$"
   ]
  },
  {
   "cell_type": "code",
   "execution_count": 55,
   "metadata": {
    "slideshow": {
     "slide_type": "fragment"
    }
   },
   "outputs": [],
   "source": [
    "# Need our mean and standard deviation - same as our frog example\n",
    "mu = 15\n",
    "sigma = 2.5"
   ]
  },
  {
   "cell_type": "code",
   "execution_count": 56,
   "metadata": {
    "ExecuteTime": {
     "end_time": "2021-10-08T21:00:08.157104Z",
     "start_time": "2021-10-08T21:00:08.152825Z"
    },
    "slideshow": {
     "slide_type": "fragment"
    }
   },
   "outputs": [
    {
     "data": {
      "text/plain": [
       "0.8849303297782918"
      ]
     },
     "execution_count": 56,
     "metadata": {},
     "output_type": "execute_result"
    }
   ],
   "source": [
    "# Create the random x value for calculation\n",
    "x = 18\n",
    "\n",
    "# Calculate the probability for x equal or less than 18\n",
    "stats.norm.cdf(x=x, loc=mu, scale=sigma)"
   ]
  },
  {
   "cell_type": "code",
   "execution_count": 57,
   "metadata": {
    "slideshow": {
     "slide_type": "slide"
    }
   },
   "outputs": [
    {
     "data": {
      "image/png": "[encoded data removed]",
      "text/plain": [
       "<Figure size 576x432 with 1 Axes>"
      ]
     },
     "metadata": {
      "needs_background": "light"
     },
     "output_type": "display_data"
    }
   ],
   "source": [
    "# Visualizing this!\n",
    "rv = stats.norm(loc=mu, scale=sigma)\n",
    "# Don't worry about this numpy bit, it's to help visualize\n",
    "z_curve = np.linspace(rv.ppf(0.01), rv.ppf(0.99), 100)\n",
    "    \n",
    "plt.figure(figsize=(8,6))\n",
    "\n",
    "plt.plot(z_curve, rv.pdf(z_curve))\n",
    "plt.plot(z_curve, rv.cdf(z_curve), label='Normal Cumulative Distribution')\n",
    "\n",
    "plt.fill_between(z_curve, rv.pdf(z_curve), where=z_curve < 18, color='green')\n",
    "\n",
    "\n",
    "plt.vlines(x=x, ymin=0, ymax=rv.cdf(x), color='red', \n",
    "           label='x=18')\n",
    "plt.hlines(y=rv.cdf(x), xmin=z_curve[0], xmax=x, color='red')\n",
    "\n",
    "plt.legend();"
   ]
  },
  {
   "cell_type": "markdown",
   "metadata": {
    "slideshow": {
     "slide_type": "slide"
    }
   },
   "source": [
    "Note: the ```cdf``` function by default return the probability of the left hand tail of the distribution. If you are interested to calculate the right hand tail probability, you can simply subtract the probability of the left tail from 1.\n",
    "\n",
    "$$P(x>18) = 1 - P(x \\leq 18)$$\n"
   ]
  },
  {
   "cell_type": "markdown",
   "metadata": {
    "heading_collapsed": true,
    "hidden": true,
    "slideshow": {
     "slide_type": "slide"
    }
   },
   "source": [
    "## Example: Using CDF & comparison to PDF"
   ]
  },
  {
   "cell_type": "markdown",
   "metadata": {
    "hidden": true,
    "slideshow": {
     "slide_type": "fragment"
    }
   },
   "source": [
    "Consider the following normal distributions of heights (more on the normal distribution below).\n",
    "\n",
    "The PDF and the CDF look like so:\n"
   ]
  },
  {
   "cell_type": "code",
   "execution_count": 58,
   "metadata": {
    "ExecuteTime": {
     "end_time": "2021-10-08T21:00:09.746527Z",
     "start_time": "2021-10-08T21:00:08.932952Z"
    },
    "hidden": true,
    "slideshow": {
     "slide_type": "slide"
    }
   },
   "outputs": [
    {
     "data": {
      "image/png": "[encoded data removed]",
      "text/plain": [
       "<Figure size 720x360 with 2 Axes>"
      ]
     },
     "metadata": {
      "needs_background": "light"
     },
     "output_type": "display_data"
    }
   ],
   "source": [
    "# Create a simulate dataset with mean = 67, sigma = 4, and N = 1000\n",
    "r = sorted(stats.norm.rvs(loc=67, scale=4, size=1000))\n",
    "\n",
    "# Calculate the CDF using stats.norm.cdf()\n",
    "r_cdf = stats.norm.cdf(r, loc=67, scale=4)\n",
    "\n",
    "# Plot the PDF and CDF side-by-side\n",
    "fig, (ax1, ax2) = plt.subplots(1, 2, figsize=(10, 5))\n",
    "sns.kdeplot(r, ax=ax1, fill=True)\n",
    "ax1.set_title('PDF of Height in US')\n",
    "\n",
    "ax2.plot(r, r_cdf, color='g')\n",
    "ax2.set_title('CDF of Height in the US');"
   ]
  },
  {
   "cell_type": "markdown",
   "metadata": {
    "hidden": true,
    "slideshow": {
     "slide_type": "slide"
    }
   },
   "source": [
    "If we provide `numpy` with the underlying parameters of our distribution, we can calculate:"
   ]
  },
  {
   "cell_type": "code",
   "execution_count": 59,
   "metadata": {
    "ExecuteTime": {
     "end_time": "2021-10-08T21:00:09.751397Z",
     "start_time": "2021-10-08T21:00:09.748388Z"
    },
    "hidden": true,
    "slideshow": {
     "slide_type": "fragment"
    }
   },
   "outputs": [
    {
     "name": "stdout",
     "output_type": "stream",
     "text": [
      "The probability density at 73 is 0.9331927987311419\n"
     ]
    }
   ],
   "source": [
    "# the probability that a value falls below a specified value\n",
    "r = stats.norm(67, 4)\n",
    "print(f'The probability density at 73 is {r.cdf(73)}')"
   ]
  },
  {
   "cell_type": "code",
   "execution_count": 60,
   "metadata": {
    "ExecuteTime": {
     "end_time": "2021-10-08T21:00:09.756558Z",
     "start_time": "2021-10-08T21:00:09.753422Z"
    },
    "hidden": true,
    "slideshow": {
     "slide_type": "fragment"
    }
   },
   "outputs": [
    {
     "name": "stdout",
     "output_type": "stream",
     "text": [
      "Probability between the range 67 to 75 is 0.4772498680518208\n"
     ]
    }
   ],
   "source": [
    "# the probability that a value falls between two specified values\n",
    "r = stats.norm(67, 4)\n",
    "print(f'Probability between the range 67 to 75 is {r.cdf(75) - r.cdf(67)}')"
   ]
  },
  {
   "cell_type": "markdown",
   "metadata": {
    "hidden": true,
    "slideshow": {
     "slide_type": "slide"
    }
   },
   "source": [
    "We can also calculate the value associated with a specfic percentile:"
   ]
  },
  {
   "cell_type": "code",
   "execution_count": 61,
   "metadata": {
    "ExecuteTime": {
     "end_time": "2021-10-08T21:00:09.760204Z",
     "start_time": "2021-10-08T21:00:09.758011Z"
    },
    "hidden": true,
    "slideshow": {
     "slide_type": "fragment"
    }
   },
   "outputs": [
    {
     "name": "stdout",
     "output_type": "stream",
     "text": [
      "The 95th percentile: 73.5794145078059\n"
     ]
    }
   ],
   "source": [
    "# the 95th percentile\n",
    "print(f'The 95th percentile: {r.ppf(0.95)}')"
   ]
  },
  {
   "cell_type": "markdown",
   "metadata": {
    "heading_collapsed": true,
    "slideshow": {
     "slide_type": "slide"
    }
   },
   "source": [
    "# Exercises"
   ]
  },
  {
   "cell_type": "markdown",
   "metadata": {
    "heading_collapsed": true,
    "hidden": true,
    "slideshow": {
     "slide_type": "fragment"
    }
   },
   "source": [
    "## Order Totals CDF & PDF"
   ]
  },
  {
   "cell_type": "markdown",
   "metadata": {
    "hidden": true,
    "slideshow": {
     "slide_type": "fragment"
    }
   },
   "source": [
    "Imagine that an online clothing business gets orders with totals that are normally distributed with an average of \\\\$95 and a standard deviation of \\\\$18. **Graph the PDF and CDF** for the orders for this business. "
   ]
  },
  {
   "cell_type": "code",
   "execution_count": null,
   "metadata": {
    "ExecuteTime": {
     "end_time": "2021-10-08T21:00:10.282262Z",
     "start_time": "2021-10-08T21:00:10.280216Z"
    },
    "hidden": true,
    "slideshow": {
     "slide_type": "fragment"
    }
   },
   "outputs": [],
   "source": [
    "# Your code here\n",
    "r = sorted(stats.norm.rvs(loc=95, scale=18, size=1000))\n",
    "r_cdf = stats.norm.cdf(r, loc=95, scale=18)\n",
    "fig, (ax1, ax2) = plt.subplots(1, 2, figsize=(10, 5))\n",
    "sns.kdeplot(r, ax=ax1, fill=True)\n",
    "ax1.set_title('PDF of Revenue') \n",
    "ax2.plot(r, r_cdf, color='g')\n",
    "ax2.set_title('CDF of Revenue');"
   ]
  },
  {
   "cell_type": "markdown",
   "metadata": {
    "slideshow": {
     "slide_type": "fragment"
    }
   },
   "source": [
    "<details>\n",
    "    <summary>Answer</summary>\n",
    "\n",
    "```python \n",
    "        r = sorted(stats.norm.rvs(loc=95, scale=18, size=1000))\n",
    "        r_cdf = stats.norm.cdf(r, loc=95, scale=18)\n",
    "        fig, (ax1, ax2) = plt.subplots(1, 2, figsize=(10, 5))\n",
    "        sns.kdeplot(r, ax=ax1, fill=True)\n",
    "        ax1.set_title('PDF of Revenue') \n",
    "        ax2.plot(r, r_cdf, color='g')\n",
    "        ax2.set_title('CDF of Revenue');\n",
    "```\n",
    "</details>"
   ]
  },
  {
   "cell_type": "markdown",
   "metadata": {
    "slideshow": {
     "slide_type": "slide"
    }
   },
   "source": [
    "## How to Describe Distributions: Center, Spread and Shape\n",
    "\n",
    "The **center** refers loosely to the middle-values of a distribution, and is measured more precisely by notions like the mean, the median, and the mode.\n",
    "\n",
    "The **spread** refers loosely to how far away the more extreme values are from the center, and is measured by some value showing variation - more precisely by the standard deviation, which is effectively a measure of the average distance away from the mean.\n",
    "\n",
    "![different spread representations](images/examplesOfSpread.jpg)\n",
    "\n",
    "The **shape** refers loosely how the data shows up when visualized, more specifically capturing details like symmetry or skew, as well as the number of peaks in the distribution.\n",
    "\n",
    "![different distribution shapes](images/shapesOfDistributions.jpg)\n",
    "\n",
    "Note that sometimes the center of your distribution is harder to capture precisely, if the shape is skewed:\n",
    "\n",
    "![examples of skewed distributions](images/order_of_mean_median_mode.png)\n",
    "\n",
    "[Image Source for the images in this cell](http://mathcenter.oxford.emory.edu/site/math117/shapeCenterAndSpread/)"
   ]
  },
  {
   "cell_type": "markdown",
   "metadata": {
    "heading_collapsed": true
   },
   "source": [
    "# Level Up: Details on Expected Value and Variance"
   ]
  },
  {
   "cell_type": "markdown",
   "metadata": {
    "heading_collapsed": true,
    "hidden": true
   },
   "source": [
    "## For PMF - Discrete Values"
   ]
  },
  {
   "cell_type": "markdown",
   "metadata": {
    "heading_collapsed": true,
    "hidden": true
   },
   "source": [
    "### Expected Value/Mean"
   ]
  },
  {
   "cell_type": "markdown",
   "metadata": {
    "hidden": true
   },
   "source": [
    "The expected value, or the mean, describes the 'center' of the distribution (you may hear this called the first moment).  The 'center' refers loosely to the middle-values of a distribution, and is measured more precisely by notions like the mean, the median, and the mode.\n",
    "\n",
    "For a discrete distribution, working from the vantage point of a collected sample of n data points:\n",
    "\n",
    "mean = $\\Large\\mu = \\frac{\\Sigma^n_{i = 1}x_i}{n}$\n",
    "\n",
    "If we are working from the vantage point of known probabilities, the mean is referred to as the expected value. The expected value of a discrete distribution is the weighted sum of all values of x, where the weight is their probability.\n",
    " \n",
    "The expected value of the Lotto example is:\n",
    "${\\displaystyle \\operatorname {E} [X]= \\Sigma^n_{i=1}p(x_i)x_i}$"
   ]
  },
  {
   "cell_type": "markdown",
   "metadata": {
    "heading_collapsed": true,
    "hidden": true
   },
   "source": [
    "### Variance/Standard Deviation"
   ]
  },
  {
   "cell_type": "markdown",
   "metadata": {
    "hidden": true
   },
   "source": [
    "Variance describes the spread of the data (it is also referred to as the second moment).  The 'spread' refers loosely to how far away the more extreme values are from the center.\n",
    "\n",
    "Standard deviation is the square root of variance, and effectively measures the *average distance away from the mean*.\n",
    "\n",
    "From the standpoint of a sample, the variance of a discrete distribution of n data points is:\n",
    "\n",
    "std = $\\Large\\sigma = \\sqrt{\\frac{\\Sigma^n_{i = 1}(x_i - \\mu)^2}{n}}$\n",
    "\n",
    "\n",
    "Variance is the expectation of the squared deviation of a random variable from its mean.\n",
    "\n",
    "For our Lotto PMF, that means:\n",
    "\n",
    " $ \\Large E((X-\\mu)^2) = \\sigma^2 = \\Sigma^n_{i=1}p(x_i)(x_i - \\mu)^2$"
   ]
  },
  {
   "cell_type": "markdown",
   "metadata": {
    "heading_collapsed": true
   },
   "source": [
    "# Level Up: CDF Use Cases"
   ]
  },
  {
   "cell_type": "markdown",
   "metadata": {
    "hidden": true
   },
   "source": [
    "You might look at the CDF and wonder if it's a shadow of my beloved histogram. But there are some good use cases for this way of visualizing the CDF"
   ]
  },
  {
   "cell_type": "code",
   "execution_count": null,
   "metadata": {
    "ExecuteTime": {
     "end_time": "2021-10-08T21:00:13.628294Z",
     "start_time": "2021-10-08T21:00:13.624664Z"
    },
    "hidden": true
   },
   "outputs": [],
   "source": [
    "# First let's define some data\n",
    "domain_x = np.linspace(-1,1,100)\n",
    "norm_dist = stats.norm.rvs(0,0.3,domain_x.shape)\n",
    "norm_dist.shape"
   ]
  },
  {
   "cell_type": "markdown",
   "metadata": {
    "heading_collapsed": true,
    "hidden": true
   },
   "source": [
    "## Quickly identify key values"
   ]
  },
  {
   "cell_type": "markdown",
   "metadata": {
    "hidden": true
   },
   "source": [
    "Finding features like the median, minimum, maximum, and quartiles are easy to read"
   ]
  },
  {
   "cell_type": "code",
   "execution_count": null,
   "metadata": {
    "ExecuteTime": {
     "end_time": "2021-10-08T21:00:14.331413Z",
     "start_time": "2021-10-08T21:00:14.111518Z"
    },
    "hidden": true
   },
   "outputs": [],
   "source": [
    "f,(ax_pdf,ax_cdf) = plt.subplots(nrows=1,ncols=2,figsize=(12,4))\n",
    "\n",
    "###### Histogram (PDF)\n",
    "ax_pdf = sns.histplot(x=norm_dist, ax=ax_pdf, alpha=0.4)\n",
    "# You can also see the PDF if you want\n",
    "# ax_pdf = sns.kdeplot(x=out, cumulative=False, ax=ax_pdf)\n",
    "\n",
    "# Median line\n",
    "ax_pdf.vlines(\n",
    "    x=np.median(norm_dist),\n",
    "    ymin=0,\n",
    "    ymax=10,\n",
    "    linestyles='--',\n",
    "    color='red'      \n",
    ")\n",
    "# 25th-percentile line\n",
    "ax_pdf.vlines(\n",
    "    x=np.quantile(norm_dist, 0.25),\n",
    "    ymin=0,\n",
    "    ymax=10,\n",
    "    linestyles='--',\n",
    "    color='purple'      \n",
    ")\n",
    "# 75th-percentile line\n",
    "ax_pdf.vlines(\n",
    "    x=np.quantile(norm_dist, 0.75),\n",
    "    ymin=0,\n",
    "    ymax=10,\n",
    "    linestyles='--',\n",
    "    color='purple'      \n",
    ")\n",
    "\n",
    "###### CDF \n",
    "ax_cdf = sns.kdeplot(x=norm_dist, cumulative=True, ax=ax_cdf)\n",
    "\n",
    "# Median line\n",
    "ax_cdf.hlines(\n",
    "    y=0.5,\n",
    "    xmin=-1,\n",
    "    xmax=1,\n",
    "    linestyles='--',\n",
    "    color='red'\n",
    ")\n",
    "# 25th-percentile line\n",
    "ax_cdf.hlines(\n",
    "    y=0.25,\n",
    "    xmin=-1,\n",
    "    xmax=1,\n",
    "    linestyles='--',\n",
    "    color='purple'\n",
    ")\n",
    "# 75th-percentile line\n",
    "ax_cdf.hlines(\n",
    "    y=0.75,\n",
    "    xmin=-1,\n",
    "    xmax=1,\n",
    "    linestyles='--',\n",
    "    color='purple'\n",
    ");"
   ]
  },
  {
   "cell_type": "markdown",
   "metadata": {
    "heading_collapsed": true,
    "hidden": true
   },
   "source": [
    "## Outliers can be more obvious"
   ]
  },
  {
   "cell_type": "markdown",
   "metadata": {
    "hidden": true
   },
   "source": [
    "Visualizations with outliers can be a little tricky. Take a look at your histogram. With outliers, it might be identified but can distort our focus."
   ]
  },
  {
   "cell_type": "code",
   "execution_count": null,
   "metadata": {
    "ExecuteTime": {
     "end_time": "2021-10-08T21:00:14.672833Z",
     "start_time": "2021-10-08T21:00:14.668761Z"
    },
    "hidden": true
   },
   "outputs": [],
   "source": [
    "# Add an outlier\n",
    "norm_with_outliers = np.append(norm_dist, 5*np.abs(np.random.randn(5)))\n",
    "print(f'The range of norm_dist: \\n{norm_dist.min(), norm_dist.max()}\\n')\n",
    "print(f'The range of norm_with_outliers: \\n{norm_with_outliers.min(), norm_with_outliers.max()}\\n')"
   ]
  },
  {
   "cell_type": "code",
   "execution_count": null,
   "metadata": {
    "ExecuteTime": {
     "end_time": "2021-10-08T21:00:14.989799Z",
     "start_time": "2021-10-08T21:00:14.696050Z"
    },
    "hidden": true
   },
   "outputs": [],
   "source": [
    "f,(ax0,ax1) = plt.subplots(1,2, figsize=(12,4))\n",
    "\n",
    "# Showing the outliers\n",
    "sns.histplot(x=norm_with_outliers, alpha=0.4, ax=ax0)\n",
    "\n",
    "# Ignoring outliers\n",
    "ax1=sns.histplot(x=norm_with_outliers, alpha=0.4, ax=ax1)\n",
    "ax1.set_xlim(right=1.)"
   ]
  },
  {
   "cell_type": "markdown",
   "metadata": {
    "hidden": true
   },
   "source": [
    "In a worst-case, you might not notice the outliers because it gets swallowed up due by a bin because of the number of bins or bin width parameter"
   ]
  },
  {
   "cell_type": "markdown",
   "metadata": {
    "hidden": true
   },
   "source": [
    "Now using a CDF, it can be a lot easier to identify when there is an extreme value even if we scale the $x$-axis."
   ]
  },
  {
   "cell_type": "code",
   "execution_count": null,
   "metadata": {
    "ExecuteTime": {
     "end_time": "2021-10-08T21:00:15.423689Z",
     "start_time": "2021-10-08T21:00:15.203172Z"
    },
    "hidden": true
   },
   "outputs": [],
   "source": [
    "f,(ax0,ax1) = plt.subplots(1,2, figsize=(12,4))\n",
    "\n",
    "# Showing the outliers\n",
    "ax0 = sns.kdeplot(x=norm_with_outliers, cumulative=True, ax=ax0)\n",
    "ax0.hlines(1,xmin=-1,xmax=3,color='red',linestyles='--')\n",
    "\n",
    "# Ignoring outliers\n",
    "ax1 = sns.kdeplot(x=norm_with_outliers, cumulative=True, ax=ax1)\n",
    "ax1.hlines(1,xmin=-1,xmax=1,color='red',linestyles='--')\n",
    "ax1.set_xlim(right=1.)"
   ]
  },
  {
   "cell_type": "markdown",
   "metadata": {
    "heading_collapsed": true,
    "hidden": true
   },
   "source": [
    "## Identifying clusters"
   ]
  },
  {
   "cell_type": "markdown",
   "metadata": {
    "hidden": true
   },
   "source": [
    "Typically not hard with a histogram. But you can also see it in CDFs!"
   ]
  },
  {
   "cell_type": "code",
   "execution_count": 62,
   "metadata": {
    "ExecuteTime": {
     "end_time": "2021-10-08T21:00:15.718993Z",
     "start_time": "2021-10-08T21:00:15.716159Z"
    },
    "hidden": true
   },
   "outputs": [],
   "source": [
    "# Create two sets of simulated data follow normal distribution\n",
    "domain_x = np.linspace(-1, 1, 100)\n",
    "norm_dist0 = stats.norm.rvs(0,0.3, domain_x.shape)\n",
    "norm_dist1 = stats.norm.rvs(2,0.2, domain_x.shape)\n",
    "\n",
    "# Combine the two datasets into one\n",
    "two_dist = np.append(norm_dist0, norm_dist1)"
   ]
  },
  {
   "cell_type": "code",
   "execution_count": 63,
   "metadata": {
    "ExecuteTime": {
     "end_time": "2021-10-08T21:00:16.443920Z",
     "start_time": "2021-10-08T21:00:15.747406Z"
    },
    "hidden": true
   },
   "outputs": [
    {
     "data": {
      "text/plain": [
       "(-1.0, 3.5)"
      ]
     },
     "execution_count": 63,
     "metadata": {},
     "output_type": "execute_result"
    },
    {
     "data": {
      "image/png": "[encoded data removed]",
      "text/plain": [
       "<Figure size 864x864 with 6 Axes>"
      ]
     },
     "metadata": {
      "needs_background": "light"
     },
     "output_type": "display_data"
    }
   ],
   "source": [
    "f,(ax0,ax1,ax2) = plt.subplots(3,2, figsize=(12,12))\n",
    "\n",
    "# Histogram\n",
    "ax=sns.histplot(x=norm_dist0, alpha=0.4, ax=ax0[0])\n",
    "ax.set_xlim(-1,3.5)\n",
    "ax=sns.histplot(x=norm_dist1, alpha=0.4, ax=ax1[0])\n",
    "ax.set_xlim(-1,3.5)\n",
    "ax=sns.histplot(x=two_dist, alpha=0.4, ax=ax2[0])\n",
    "ax.set_xlim(-1,3.5)\n",
    "\n",
    "# CDF\n",
    "ax=sns.kdeplot(x=norm_dist0, alpha=0.4, ax=ax0[1], cumulative=True)\n",
    "ax.set_xlim(-1,3.5)\n",
    "ax=sns.kdeplot(x=norm_dist1, alpha=0.4, ax=ax1[1], cumulative=True)\n",
    "ax.set_xlim(-1,3.5)\n",
    "ax=sns.kdeplot(x=two_dist, alpha=0.4, ax=ax2[1], cumulative=True)\n",
    "ax.set_xlim(-1,3.5)"
   ]
  },
  {
   "cell_type": "markdown",
   "metadata": {
    "heading_collapsed": true,
    "hidden": true
   },
   "source": [
    "## Relatively easy to view multiple distributions"
   ]
  },
  {
   "cell_type": "code",
   "execution_count": null,
   "metadata": {
    "ExecuteTime": {
     "end_time": "2021-10-08T21:00:16.448471Z",
     "start_time": "2021-10-08T21:00:16.445562Z"
    },
    "hidden": true
   },
   "outputs": [],
   "source": [
    "# Craete three datasets that follow normal distribution\n",
    "norm_dist0 = stats.norm.rvs(0,0.3,domain_x.shape)\n",
    "norm_dist1 = stats.norm.rvs(0,0.2,domain_x.shape)\n",
    "norm_dist2 = stats.norm.rvs(0.3,0.2,domain_x.shape)"
   ]
  },
  {
   "cell_type": "code",
   "execution_count": null,
   "metadata": {
    "ExecuteTime": {
     "end_time": "2021-10-08T21:00:16.806819Z",
     "start_time": "2021-10-08T21:00:16.450355Z"
    },
    "hidden": true
   },
   "outputs": [],
   "source": [
    "f,(ax0,ax1) = plt.subplots(2,1, figsize=(12,12))\n",
    "\n",
    "# Histogram\n",
    "ax=sns.histplot(x=norm_dist0, alpha=0.4, ax=ax0, color='red')\n",
    "ax=sns.histplot(x=norm_dist1, alpha=0.4, ax=ax0, color='yellow')\n",
    "ax=sns.histplot(x=norm_dist2, alpha=0.4, ax=ax0, color='blue')\n",
    "\n",
    "# CDF\n",
    "ax=sns.kdeplot(x=norm_dist0, alpha=0.4, ax=ax1, cumulative=True, color='red')\n",
    "ax=sns.kdeplot(x=norm_dist1, alpha=0.4, ax=ax1, cumulative=True, color='yellow')\n",
    "ax=sns.kdeplot(x=norm_dist2, alpha=0.4, ax=ax1, cumulative=True, color='blue')"
   ]
  },
  {
   "cell_type": "markdown",
   "metadata": {
    "heading_collapsed": true
   },
   "source": [
    "# Level Up: Skewness"
   ]
  },
  {
   "cell_type": "markdown",
   "metadata": {
    "hidden": true
   },
   "source": [
    "Probability distributions can have skew, meaning they have more mass further from the mean on one side of the distribution than another. A skew of zero is perfectly symmetrical about the mean.   \n",
    "\n",
    "![skew](images/skew.png)"
   ]
  },
  {
   "cell_type": "code",
   "execution_count": null,
   "metadata": {
    "ExecuteTime": {
     "end_time": "2021-10-08T21:00:16.812366Z",
     "start_time": "2021-10-08T21:00:16.808630Z"
    },
    "hidden": true
   },
   "outputs": [],
   "source": [
    "# We can check skewness with scipy\n",
    "z_curve = np.random.normal(0, 1, 1000)\n",
    "print(f'The skewness measure of z_curve: {stats.skew(z_curve)}')"
   ]
  },
  {
   "cell_type": "code",
   "execution_count": null,
   "metadata": {},
   "outputs": [],
   "source": [
    "# Plotting the distribution\n",
    "fig, ax = plt.subplots(1, 1)\n",
    "ax.hist(z_curve, density=True, histtype='stepfilled', alpha=0.2)\n",
    "plt.show()"
   ]
  },
  {
   "cell_type": "code",
   "execution_count": null,
   "metadata": {
    "ExecuteTime": {
     "end_time": "2021-10-08T21:00:16.818025Z",
     "start_time": "2021-10-08T21:00:16.814693Z"
    },
    "scrolled": true
   },
   "outputs": [],
   "source": [
    "# Check the skewness of a Chi Square Distribution\n",
    "chisquare = stats.chi2.rvs(df=10, size=500)\n",
    "print(f'The skewness measure of chi^2 distribution: \\n{stats.skew(chisquare)}\\n')"
   ]
  },
  {
   "cell_type": "code",
   "execution_count": null,
   "metadata": {
    "ExecuteTime": {
     "end_time": "2021-10-08T21:00:16.976720Z",
     "start_time": "2021-10-08T21:00:16.820148Z"
    }
   },
   "outputs": [],
   "source": [
    "# Plotting the Chi Square distribution\n",
    "fig, ax = plt.subplots(1, 1)\n",
    "ax.hist(chisquare, density=True, histtype='stepfilled', alpha=0.2)\n",
    "ax.legend(loc='best', frameon=False)\n",
    "plt.show()"
   ]
  },
  {
   "cell_type": "markdown",
   "metadata": {
    "heading_collapsed": true
   },
   "source": [
    "# Level Up: Kurtosis"
   ]
  },
  {
   "cell_type": "markdown",
   "metadata": {
    "hidden": true
   },
   "source": [
    "![kurtosis](images/kurtosis.png)"
   ]
  },
  {
   "cell_type": "code",
   "execution_count": null,
   "metadata": {
    "ExecuteTime": {
     "end_time": "2021-10-08T21:00:17.382143Z",
     "start_time": "2021-10-08T21:00:17.379232Z"
    }
   },
   "outputs": [],
   "source": [
    "# Check kurtosis with scipy\n",
    "print(f'The kurtosis measure of z_curve: {stats.kurtosis(z_curve)}')"
   ]
  },
  {
   "cell_type": "code",
   "execution_count": null,
   "metadata": {
    "ExecuteTime": {
     "end_time": "2021-10-08T21:00:17.406828Z",
     "start_time": "2021-10-08T21:00:17.404056Z"
    }
   },
   "outputs": [],
   "source": [
    "# Check kurtosis for Chi Square distribution\n",
    "print(f'The kurtosis meausre of Chi^2 distribution: {stats.kurtosis(chisquare)}')"
   ]
  }
 ],
 "metadata": {
  "hide_input": false,
  "kernelspec": {
   "display_name": "Python (learn-env)",
   "language": "python",
   "name": "learn-env"
  },
  "language_info": {
   "codemirror_mode": {
    "name": "ipython",
    "version": 3
   },
   "file_extension": ".py",
   "mimetype": "text/x-python",
   "name": "python",
   "nbconvert_exporter": "python",
   "pygments_lexer": "ipython3",
   "version": "3.8.5"
  },
  "latex_envs": {
   "LaTeX_envs_menu_present": true,
   "autoclose": false,
   "autocomplete": true,
   "bibliofile": "biblio.bib",
   "cite_by": "apalike",
   "current_citInitial": 1,
   "eqLabelWithNumbers": true,
   "eqNumInitial": 1,
   "hotkeys": {
    "equation": "Ctrl-E",
    "itemize": "Ctrl-I"
   },
   "labels_anchors": false,
   "latex_user_defs": false,
   "report_style_numbering": false,
   "user_envs_cfg": false
  },
  "nbTranslate": {
   "displayLangs": [
    "*"
   ],
   "hotkey": "alt-t",
   "langInMainMenu": true,
   "sourceLang": "en",
   "targetLang": "fr",
   "useGoogleTranslate": true
  },
  "toc": {
   "base_numbering": 1,
   "nav_menu": {},
   "number_sections": true,
   "sideBar": true,
   "skip_h1_title": false,
   "title_cell": "Table of Contents",
   "title_sidebar": "TOC",
   "toc_cell": true,
   "toc_position": {
    "height": "calc(100% - 180px)",
    "left": "10px",
    "top": "150px",
    "width": "219px"
   },
   "toc_section_display": true,
   "toc_window_display": false
  }
 },
 "nbformat": 4,
 "nbformat_minor": 4
}
