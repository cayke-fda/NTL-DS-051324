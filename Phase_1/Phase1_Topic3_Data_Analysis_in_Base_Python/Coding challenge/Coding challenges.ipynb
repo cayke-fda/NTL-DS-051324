{
 "cells": [
  {
   "cell_type": "raw",
   "id": "d71716c5-ef70-450b-8c8c-cdf4b3b029bd",
   "metadata": {},
   "source": []
  },
  {
   "cell_type": "markdown",
   "id": "68645f0e-96c3-4a7f-b1fc-d3ecb86c643e",
   "metadata": {},
   "source": [
    "Define a function that takes an array of numbers and sorts only the odd ones in ascending order, leaving the even ones in their places. No need to move that number 0 should it occur."
   ]
  },
  {
   "cell_type": "code",
   "execution_count": 2,
   "id": "e5f3b7eb-420e-4bb4-a6a4-87769b5c9ddc",
   "metadata": {},
   "outputs": [
    {
     "name": "stdout",
     "output_type": "stream",
     "text": [
      "[1, 3, 3, 2, 5, 7, 7, 2, 7]\n"
     ]
    }
   ],
   "source": [
    "def sort_odd(arr):\n",
    "    odd_list = []\n",
    "    for elem in arr:\n",
    "        if elem%2==1:\n",
    "            odd_list.append(elem)\n",
    "    sorted_odd_list = sorted(odd_list)\n",
    "    counter = 0\n",
    "    for i in range(len(arr)):\n",
    "        if arr[i]%2==1:\n",
    "            arr[i] = sorted_odd_list[counter]\n",
    "            counter+=1\n",
    "    return arr\n",
    "\n",
    "arr = [1,5,3,2,7,7,3,2,7]\n",
    "print(sort_odd(arr))\n",
    "    "
   ]
  },
  {
   "cell_type": "code",
   "execution_count": null,
   "id": "180e4f15-a05d-43a7-bdda-13f55c901cc9",
   "metadata": {},
   "outputs": [],
   "source": []
  }
 ],
 "metadata": {
  "kernelspec": {
   "display_name": "Python (learn-env)",
   "language": "python",
   "name": "learn-env"
  },
  "language_info": {
   "codemirror_mode": {
    "name": "ipython",
    "version": 3
   },
   "file_extension": ".py",
   "mimetype": "text/x-python",
   "name": "python",
   "nbconvert_exporter": "python",
   "pygments_lexer": "ipython3",
   "version": "3.8.5"
  }
 },
 "nbformat": 4,
 "nbformat_minor": 5
}
